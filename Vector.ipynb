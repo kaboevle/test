{
 "cells": [
  {
   "cell_type": "code",
   "execution_count": 20,
   "metadata": {},
   "outputs": [
    {
     "name": "stdout",
     "output_type": "stream",
     "text": [
      "4 6\n",
      "2 4\n",
      "6 10\n"
     ]
    }
   ],
   "source": [
    "#Mål er at få en sumvector ved at plusse to vectoere sammen\n",
    "class Vector:\n",
    "    def __init__(self, x, y):\n",
    "        self.__x = x\n",
    "        self.__y = y\n",
    "    \n",
    "    def setter(self, x, y):\n",
    "        self.__x = x\n",
    "        self.__y = y\n",
    "    def getter(self):\n",
    "        return(self.__x, self.__y)\n",
    "    def __add__(self,Plus):\n",
    "        return Vector(self.__x + Plus.__x, self.__y + Plus.__y)\n",
    "    def __str__(self):\n",
    "        return str(self.__x) + \" \" + str(self.__y)\n",
    "    \n",
    "Nyvector = Vector(4,6)\n",
    "print(Nyvector)\n",
    "HeltNyVector = Vector(2,4)\n",
    "print(HeltNyVector)\n",
    "PlusVector = Nyvector + HeltNyVector\n",
    "print(PlusVector)\n"
   ]
  }
 ],
 "metadata": {
  "kernelspec": {
   "display_name": "base",
   "language": "python",
   "name": "python3"
  },
  "language_info": {
   "codemirror_mode": {
    "name": "ipython",
    "version": 3
   },
   "file_extension": ".py",
   "mimetype": "text/x-python",
   "name": "python",
   "nbconvert_exporter": "python",
   "pygments_lexer": "ipython3",
   "version": "3.11.7"
  }
 },
 "nbformat": 4,
 "nbformat_minor": 2
}
